{
 "cells": [
  {
   "cell_type": "code",
   "execution_count": 7,
   "metadata": {},
   "outputs": [
    {
     "name": "stdout",
     "output_type": "stream",
     "text": [
      "0.47731184222904943\n",
      "0.8995355397385894\n",
      "1.163219910178123\n",
      "2.034337639564822\n",
      "2.4035265303554376\n",
      "2.7017617817781376\n",
      "3.4756671117903775\n",
      "4.293520497726175\n",
      "4.650012527064409\n",
      "5.64647674835316\n"
     ]
    }
   ],
   "source": [
    "#In RL, the two major entities are agent and the environment\n",
    "import random\n",
    "\n",
    "class Environment:\n",
    "    def __init__(self):\n",
    "        self.steps = 10\n",
    "        \n",
    "    def get_observations(self):\n",
    "        \"\"\"returns current environment's observation to the agent\"\"\"\n",
    "        return [0.0, 0.0, 0.0]\n",
    "    \n",
    "    def get_actions(self):\n",
    "        return [0, 1]\n",
    "    \n",
    "    def is_done(self):\n",
    "        return self.steps==0\n",
    "    \n",
    "    def action(self, action):\n",
    "        if self.is_done():\n",
    "            raise Exception(\"Game Over\")\n",
    "        \n",
    "        self.steps -= 1\n",
    "        return random.random() \n",
    "        \n",
    "class Agent:\n",
    "    def __init__(self):\n",
    "        self.total_reward = 0.0\n",
    "    \n",
    "    def step(self, env):\n",
    "        current_obs = env.get_observations()\n",
    "        actions = env.get_actions()\n",
    "        reward = env.action(random.choice(actions))\n",
    "        self.total_reward += reward\n",
    "        print(self.total_reward)\n",
    "\n",
    "\n",
    "env = Environment()\n",
    "agent = Agent()\n",
    "while not env.is_done():\n",
    "    agent.step(env)"
   ]
  },
  {
   "cell_type": "code",
   "execution_count": null,
   "metadata": {},
   "outputs": [],
   "source": []
  }
 ],
 "metadata": {
  "kernelspec": {
   "display_name": "Python 3",
   "language": "python",
   "name": "python3"
  },
  "language_info": {
   "codemirror_mode": {
    "name": "ipython",
    "version": 3
   },
   "file_extension": ".py",
   "mimetype": "text/x-python",
   "name": "python",
   "nbconvert_exporter": "python",
   "pygments_lexer": "ipython3",
   "version": "3.8.3"
  }
 },
 "nbformat": 4,
 "nbformat_minor": 4
}
